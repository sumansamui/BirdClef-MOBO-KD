{
 "cells": [
  {
   "cell_type": "code",
   "execution_count": 1,
   "metadata": {
    "execution": {
     "iopub.execute_input": "2025-07-13T07:59:27.945112Z",
     "iopub.status.busy": "2025-07-13T07:59:27.944797Z",
     "iopub.status.idle": "2025-07-13T07:59:29.477689Z",
     "shell.execute_reply": "2025-07-13T07:59:29.476512Z",
     "shell.execute_reply.started": "2025-07-13T07:59:27.945079Z"
    },
    "trusted": true
   },
   "outputs": [
    {
     "data": {
      "text/html": [
       "<div>\n",
       "<style scoped>\n",
       "    .dataframe tbody tr th:only-of-type {\n",
       "        vertical-align: middle;\n",
       "    }\n",
       "\n",
       "    .dataframe tbody tr th {\n",
       "        vertical-align: top;\n",
       "    }\n",
       "\n",
       "    .dataframe thead th {\n",
       "        text-align: right;\n",
       "    }\n",
       "</style>\n",
       "<table border=\"1\" class=\"dataframe\">\n",
       "  <thead>\n",
       "    <tr style=\"text-align: right;\">\n",
       "      <th></th>\n",
       "      <th>primary_label</th>\n",
       "      <th>secondary_labels</th>\n",
       "      <th>type</th>\n",
       "      <th>latitude</th>\n",
       "      <th>longitude</th>\n",
       "      <th>scientific_name</th>\n",
       "      <th>common_name</th>\n",
       "      <th>author</th>\n",
       "      <th>date</th>\n",
       "      <th>filename</th>\n",
       "      <th>license</th>\n",
       "      <th>rating</th>\n",
       "      <th>time</th>\n",
       "      <th>url</th>\n",
       "    </tr>\n",
       "  </thead>\n",
       "  <tbody>\n",
       "    <tr>\n",
       "      <th>0</th>\n",
       "      <td>acafly</td>\n",
       "      <td>['amegfi']</td>\n",
       "      <td>['begging call', 'call', 'juvenile']</td>\n",
       "      <td>35.3860</td>\n",
       "      <td>-84.1250</td>\n",
       "      <td>Empidonax virescens</td>\n",
       "      <td>Acadian Flycatcher</td>\n",
       "      <td>Mike Nelson</td>\n",
       "      <td>2012-08-12</td>\n",
       "      <td>XC109605.ogg</td>\n",
       "      <td>Creative Commons Attribution-NonCommercial-Sha...</td>\n",
       "      <td>2.5</td>\n",
       "      <td>09:30</td>\n",
       "      <td>https://www.xeno-canto.org/109605</td>\n",
       "    </tr>\n",
       "    <tr>\n",
       "      <th>1</th>\n",
       "      <td>acafly</td>\n",
       "      <td>[]</td>\n",
       "      <td>['call']</td>\n",
       "      <td>9.1334</td>\n",
       "      <td>-79.6501</td>\n",
       "      <td>Empidonax virescens</td>\n",
       "      <td>Acadian Flycatcher</td>\n",
       "      <td>Allen T. Chartier</td>\n",
       "      <td>2000-12-26</td>\n",
       "      <td>XC11209.ogg</td>\n",
       "      <td>Creative Commons Attribution-NonCommercial-Sha...</td>\n",
       "      <td>3.0</td>\n",
       "      <td>?</td>\n",
       "      <td>https://www.xeno-canto.org/11209</td>\n",
       "    </tr>\n",
       "  </tbody>\n",
       "</table>\n",
       "</div>"
      ],
      "text/plain": [
       "  primary_label secondary_labels                                  type  \\\n",
       "0        acafly       ['amegfi']  ['begging call', 'call', 'juvenile']   \n",
       "1        acafly               []                              ['call']   \n",
       "\n",
       "   latitude  longitude      scientific_name         common_name  \\\n",
       "0   35.3860   -84.1250  Empidonax virescens  Acadian Flycatcher   \n",
       "1    9.1334   -79.6501  Empidonax virescens  Acadian Flycatcher   \n",
       "\n",
       "              author        date      filename  \\\n",
       "0        Mike Nelson  2012-08-12  XC109605.ogg   \n",
       "1  Allen T. Chartier  2000-12-26   XC11209.ogg   \n",
       "\n",
       "                                             license  rating   time  \\\n",
       "0  Creative Commons Attribution-NonCommercial-Sha...     2.5  09:30   \n",
       "1  Creative Commons Attribution-NonCommercial-Sha...     3.0      ?   \n",
       "\n",
       "                                 url  \n",
       "0  https://www.xeno-canto.org/109605  \n",
       "1   https://www.xeno-canto.org/11209  "
      ]
     },
     "execution_count": 1,
     "metadata": {},
     "output_type": "execute_result"
    }
   ],
   "source": [
    "import pandas as pd\n",
    "import warnings\n",
    "import numpy as np\n",
    "import matplotlib.pyplot as plt\n",
    "warnings.filterwarnings(action='ignore')\n",
    "\n",
    "train = pd.read_csv('../input/birdclef-2021/train_metadata.csv',)\n",
    "train.head(2)"
   ]
  },
  {
   "cell_type": "code",
   "execution_count": 2,
   "metadata": {
    "execution": {
     "iopub.execute_input": "2025-07-13T08:04:56.877879Z",
     "iopub.status.busy": "2025-07-13T08:04:56.877276Z",
     "iopub.status.idle": "2025-07-13T08:04:56.902758Z",
     "shell.execute_reply": "2025-07-13T08:04:56.901366Z",
     "shell.execute_reply.started": "2025-07-13T08:04:56.877833Z"
    },
    "trusted": true
   },
   "outputs": [
    {
     "data": {
      "text/plain": [
       "primary_label\n",
       "redcro     500\n",
       "comrav     500\n",
       "houspa     500\n",
       "norcar     500\n",
       "barswa     500\n",
       "          ... \n",
       "whcpar      12\n",
       "wegspa1     10\n",
       "runwre1      9\n",
       "crfpar       8\n",
       "stvhum2      8\n",
       "Name: count, Length: 397, dtype: int64"
      ]
     },
     "execution_count": 2,
     "metadata": {},
     "output_type": "execute_result"
    }
   ],
   "source": [
    "values_counts = train['primary_label'].value_counts()\n",
    "values_counts"
   ]
  },
  {
   "cell_type": "code",
   "execution_count": 3,
   "metadata": {
    "execution": {
     "iopub.execute_input": "2025-07-13T08:05:06.459629Z",
     "iopub.status.busy": "2025-07-13T08:05:06.459234Z",
     "iopub.status.idle": "2025-07-13T08:05:06.476441Z",
     "shell.execute_reply": "2025-07-13T08:05:06.475340Z",
     "shell.execute_reply.started": "2025-07-13T08:05:06.459593Z"
    },
    "trusted": true
   },
   "outputs": [
    {
     "name": "stdout",
     "output_type": "stream",
     "text": [
      "397 \n",
      "\n",
      "primary_label\n",
      "redcro     500\n",
      "comrav     500\n",
      "houspa     500\n",
      "norcar     500\n",
      "barswa     500\n",
      "houwre     500\n",
      "sonspa     500\n",
      "gbwwre1    500\n",
      "eursta     500\n",
      "spotow     500\n",
      "Name: count, dtype: int64\n"
     ]
    }
   ],
   "source": [
    "unique_values_count = len(train['primary_label'].value_counts())\n",
    "print(unique_values_count,'\\n')\n",
    "top_10_labels = train['primary_label'].value_counts().head(10)\n",
    "print(top_10_labels)\n"
   ]
  },
  {
   "cell_type": "code",
   "execution_count": 4,
   "metadata": {
    "execution": {
     "iopub.execute_input": "2025-07-13T08:05:15.563209Z",
     "iopub.status.busy": "2025-07-13T08:05:15.562767Z",
     "iopub.status.idle": "2025-07-13T08:05:15.576225Z",
     "shell.execute_reply": "2025-07-13T08:05:15.574578Z",
     "shell.execute_reply.started": "2025-07-13T08:05:15.563174Z"
    },
    "trusted": true
   },
   "outputs": [
    {
     "name": "stdout",
     "output_type": "stream",
     "text": [
      "Index(['redcro', 'comrav', 'houspa', 'norcar', 'barswa', 'houwre', 'sonspa',\n",
      "       'gbwwre1', 'eursta', 'spotow'],\n",
      "      dtype='object', name='primary_label')\n"
     ]
    }
   ],
   "source": [
    "top_10_labels = train['primary_label'].value_counts().index[0:10]\n",
    "print(top_10_labels)\n"
   ]
  },
  {
   "cell_type": "code",
   "execution_count": null,
   "metadata": {
    "execution": {
     "iopub.execute_input": "2025-07-13T08:05:55.037551Z",
     "iopub.status.busy": "2025-07-13T08:05:55.037127Z"
    },
    "trusted": true
   },
   "outputs": [],
   "source": [
    "import os\n",
    "directory_names = []\n",
    "\n",
    "for dirname, _, _ in os.walk('/kaggle/input/birdclef-2021/train_short_audio'):\n",
    "    # Check if the current directory is related to one of the top 10 bird labels\n",
    "    if any(label in dirname for label in top_10_labels):\n",
    "        directory_names.append(dirname)\n",
    "\n",
    "# Print the stored directory names\n",
    "print(\"Directory names related to 10 most occuring bird labels:\")\n",
    "for directory in directory_names:\n",
    "    print(directory)\n"
   ]
  },
  {
   "cell_type": "code",
   "execution_count": 8,
   "metadata": {
    "execution": {
     "iopub.execute_input": "2025-03-17T13:39:16.564491Z",
     "iopub.status.busy": "2025-03-17T13:39:16.564143Z",
     "iopub.status.idle": "2025-03-17T13:39:19.648948Z",
     "shell.execute_reply": "2025-03-17T13:39:19.647664Z",
     "shell.execute_reply.started": "2025-03-17T13:39:16.564463Z"
    },
    "trusted": true
   },
   "outputs": [
    {
     "name": "stdout",
     "output_type": "stream",
     "text": [
      "Number of files under eursta: 500\n",
      "Number of files under houwre: 500\n",
      "Number of files under norcar: 500\n",
      "Number of files under houspa: 500\n",
      "Number of files under sonspa: 500\n",
      "Number of files under comrav: 500\n",
      "Number of files under redcro: 500\n",
      "Number of files under gbwwre1: 500\n",
      "Number of files under spotow: 500\n",
      "Number of files under barswa: 500\n"
     ]
    }
   ],
   "source": [
    "bird_label_files = {}\n",
    "\n",
    "for label_dir in directory_names:\n",
    "    label = label_dir.split('/')[-1]  # Extract label from directory path\n",
    "    bird_label_files[label] = []  # Initialize list for filenames\n",
    "    for _, _, filenames in os.walk(label_dir):\n",
    "        for filename in filenames:\n",
    "            bird_label_files[label].append(os.path.join(label_dir, filename))\n",
    "\n",
    "# Print the dictionary containing filenames for each bird label\n",
    "# Print the number of files under each label\n",
    "for label, files in bird_label_files.items():\n",
    "    print(f\"Number of files under {label}: {len(files)}\")\n"
   ]
  },
  {
   "cell_type": "code",
   "execution_count": null,
   "metadata": {
    "execution": {
     "iopub.execute_input": "2024-09-12T18:28:04.378369Z",
     "iopub.status.busy": "2024-09-12T18:28:04.377992Z",
     "iopub.status.idle": "2024-09-12T18:28:04.394115Z",
     "shell.execute_reply": "2024-09-12T18:28:04.392422Z",
     "shell.execute_reply.started": "2024-09-12T18:28:04.378338Z"
    },
    "trusted": true
   },
   "outputs": [],
   "source": [
    "\n",
    "directory = \"/kaggle/input/birdclef-2021/train_short_audio/\"\n",
    "\n",
    "# Get list of all subdirectories\n",
    "subdirectories = [subdir for subdir in os.listdir(directory) if os.path.isdir(os.path.join(directory, subdir))]\n",
    "\n",
    "len(subdirectories)\n"
   ]
  },
  {
   "cell_type": "code",
   "execution_count": null,
   "metadata": {
    "execution": {
     "iopub.execute_input": "2024-09-12T18:28:04.397316Z",
     "iopub.status.busy": "2024-09-12T18:28:04.395780Z",
     "iopub.status.idle": "2024-09-12T18:28:04.411462Z",
     "shell.execute_reply": "2024-09-12T18:28:04.410115Z",
     "shell.execute_reply.started": "2024-09-12T18:28:04.397273Z"
    },
    "trusted": true
   },
   "outputs": [],
   "source": [
    "directory = \"/kaggle/input/birdclef-2021/train_short_audio/\"\n",
    "\n",
    "subdirectories = [subdir for subdir in os.listdir(directory) if os.path.isdir(os.path.join(directory, subdir))]\n",
    "\n",
    "for label in bird_label_files.keys():\n",
    "    if label in subdirectories:\n",
    "        subdirectories.remove(label)\n",
    "\n",
    "print(len(subdirectories))\n"
   ]
  },
  {
   "cell_type": "code",
   "execution_count": null,
   "metadata": {
    "execution": {
     "iopub.execute_input": "2024-09-12T18:28:04.432863Z",
     "iopub.status.busy": "2024-09-12T18:28:04.432337Z",
     "iopub.status.idle": "2024-09-12T18:29:55.549486Z",
     "shell.execute_reply": "2024-09-12T18:29:55.547835Z",
     "shell.execute_reply.started": "2024-09-12T18:28:04.432816Z"
    },
    "trusted": true
   },
   "outputs": [],
   "source": [
    "\n",
    "from tqdm import tqdm\n",
    "\n",
    "base_dir = '/kaggle/input/birdclef-2021/train_short_audio/'\n",
    "\n",
    "for bird_label in bird_label_files.keys():\n",
    "    label_dir = os.path.join(base_dir, bird_label)\n",
    "    zip_file_name = bird_label + \".zip\"\n",
    "    \n",
    "    # Count the number of files in the directory\n",
    "    num_files = sum([len(files) for _, _, files in os.walk(label_dir)])\n",
    "    \n",
    "    # Create a zip file with a progress bar\n",
    "    with tqdm(total=num_files, desc=f\"Zipping {bird_label} files\") as pbar:\n",
    "        !zip -r {zip_file_name} {label_dir} --quiet\n",
    "        pbar.update(num_files)\n",
    "\n",
    "\n"
   ]
  },
  {
   "cell_type": "code",
   "execution_count": 5,
   "metadata": {
    "execution": {
     "iopub.execute_input": "2025-03-17T15:52:05.055727Z",
     "iopub.status.busy": "2025-03-17T15:52:05.055356Z",
     "iopub.status.idle": "2025-03-17T15:54:43.844444Z",
     "shell.execute_reply": "2025-03-17T15:54:43.843447Z",
     "shell.execute_reply.started": "2025-03-17T15:52:05.055701Z"
    },
    "trusted": true
   },
   "outputs": [
    {
     "name": "stderr",
     "output_type": "stream",
     "text": [
      "Zipping others: 100%|██████████| 500/500 [00:22<00:00, 22.49it/s]"
     ]
    },
    {
     "name": "stdout",
     "output_type": "stream",
     "text": [
      "\n",
      "Created others.zip with 500 files from 387 species\n"
     ]
    },
    {
     "name": "stderr",
     "output_type": "stream",
     "text": [
      "\n"
     ]
    }
   ],
   "source": [
    "import os\n",
    "import random\n",
    "import zipfile\n",
    "from tqdm import tqdm\n",
    "\n",
    "# Base directory for audio files\n",
    "base_dir = \"/kaggle/input/birdclef-2021/train_short_audio/\"\n",
    "\n",
    "# Get list of non-top-10 species directories\n",
    "all_species = [d for d in os.listdir(base_dir) \n",
    "               if os.path.isdir(os.path.join(base_dir, d))]\n",
    "non_top_species = [d for d in all_species if d not in top_5_labels]\n",
    "\n",
    "# Collect ALL files from non-top species\n",
    "all_files = []\n",
    "for species in non_top_species:\n",
    "    species_path = os.path.join(base_dir, species)\n",
    "    for root, _, files in os.walk(species_path):\n",
    "        all_files.extend([os.path.join(root, f) for f in files])\n",
    "\n",
    "# Randomly select 500 files total (or max available)\n",
    "random.seed(42)\n",
    "max_samples = min(500, len(all_files))\n",
    "selected_files = random.sample(all_files, max_samples)\n",
    "\n",
    "# Create zip with preserved directory structure\n",
    "with zipfile.ZipFile('others.zip', 'w', zipfile.ZIP_DEFLATED) as zipf:\n",
    "    for file_path in tqdm(selected_files, desc=\"Zipping others\"):\n",
    "        # Preserve relative path from base directory\n",
    "        arcname = os.path.relpath(file_path, start=base_dir)\n",
    "        zipf.write(file_path, arcname)\n",
    "\n",
    "print(f\"\\nCreated others.zip with {len(selected_files)} files from {len(non_top_species)} species\")"
   ]
  },
  {
   "cell_type": "code",
   "execution_count": 6,
   "metadata": {
    "execution": {
     "iopub.execute_input": "2025-03-17T16:05:14.384036Z",
     "iopub.status.busy": "2025-03-17T16:05:14.383668Z",
     "iopub.status.idle": "2025-03-17T16:05:14.403537Z",
     "shell.execute_reply": "2025-03-17T16:05:14.402328Z",
     "shell.execute_reply.started": "2025-03-17T16:05:14.384010Z"
    },
    "trusted": true
   },
   "outputs": [
    {
     "name": "stdout",
     "output_type": "stream",
     "text": [
      "Total files: 500\n",
      "Species represented: 261\n",
      "Sample species distribution:\n",
      "ovenbi1: 4 files\n",
      "littin1: 3 files\n",
      "rufhum: 1 files\n",
      "larspa: 2 files\n",
      "rebwoo: 1 files\n"
     ]
    }
   ],
   "source": [
    "# Check zip contents\n",
    "from collections import defaultdict\n",
    "import zipfile\n",
    "\n",
    "species_count = defaultdict(int)\n",
    "\n",
    "with zipfile.ZipFile('others.zip', 'r') as zipf:\n",
    "    for f in zipf.namelist():\n",
    "        species = f.split('/')[0]\n",
    "        species_count[species] += 1\n",
    "\n",
    "print(f\"Total files: {sum(species_count.values())}\")\n",
    "print(f\"Species represented: {len(species_count)}\")\n",
    "print(\"Sample species distribution:\")\n",
    "for species, count in list(species_count.items())[:5]:\n",
    "    print(f\"{species}: {count} files\")"
   ]
  }
 ],
 "metadata": {
  "kaggle": {
   "accelerator": "none",
   "dataSources": [
    {
     "databundleVersionId": 2091745,
     "sourceId": 25954,
     "sourceType": "competition"
    }
   ],
   "dockerImageVersionId": 30664,
   "isGpuEnabled": false,
   "isInternetEnabled": true,
   "language": "python",
   "sourceType": "notebook"
  },
  "kernelspec": {
   "display_name": "Python 3",
   "language": "python",
   "name": "python3"
  },
  "language_info": {
   "codemirror_mode": {
    "name": "ipython",
    "version": 3
   },
   "file_extension": ".py",
   "mimetype": "text/x-python",
   "name": "python",
   "nbconvert_exporter": "python",
   "pygments_lexer": "ipython3",
   "version": "3.10.13"
  }
 },
 "nbformat": 4,
 "nbformat_minor": 4
}
